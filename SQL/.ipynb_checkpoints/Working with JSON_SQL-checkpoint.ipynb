{
 "cells": [
  {
   "cell_type": "code",
   "execution_count": 1,
   "id": "9c0d50d5-3e28-4725-8595-253cd1ca6b7d",
   "metadata": {},
   "outputs": [],
   "source": [
    "import pandas as pd\n"
   ]
  },
  {
   "cell_type": "code",
   "execution_count": 2,
   "id": "84b42336-14b1-4f16-b46a-6473547ef41e",
   "metadata": {},
   "outputs": [],
   "source": [
    " # read json from local\n",
    "# df = pd.read_json('.json')"
   ]
  },
  {
   "cell_type": "code",
   "execution_count": 3,
   "id": "1915150a-033c-4688-a910-450f1c98f7d9",
   "metadata": {},
   "outputs": [],
   "source": [
    "# read json fropm server\n",
    "# df = pd.read_json('your_url')"
   ]
  },
  {
   "cell_type": "markdown",
   "id": "f75f716c-2899-4939-ae16-6a30999f93b3",
   "metadata": {},
   "source": [
    "Working with SQL"
   ]
  },
  {
   "cell_type": "code",
   "execution_count": 4,
   "id": "b63f4377-e34c-4331-9f88-4ebd038024c3",
   "metadata": {},
   "outputs": [],
   "source": [
    "# !pip install mysql.connector"
   ]
  },
  {
   "cell_type": "code",
   "execution_count": 5,
   "id": "9b9b7e4f-2320-477a-bec5-3e9cf99c75b9",
   "metadata": {},
   "outputs": [],
   "source": [
    "# import mysql.connector"
   ]
  },
  {
   "cell_type": "code",
   "execution_count": null,
   "id": "04e7c568-70aa-4c28-8914-b4f99f66feda",
   "metadata": {},
   "outputs": [],
   "source": [
    "# first upload the sql downloaded file in any of your choice database\n",
    "# like xampp, postgres\n",
    "# conn = mysql.connector.connect(host=,user=,password=,database=) \n",
    "# pd.read_sql_query('your_sql_query',conn)"
   ]
  }
 ],
 "metadata": {
  "kernelspec": {
   "display_name": "Python 3 (ipykernel)",
   "language": "python",
   "name": "python3"
  },
  "language_info": {
   "codemirror_mode": {
    "name": "ipython",
    "version": 3
   },
   "file_extension": ".py",
   "mimetype": "text/x-python",
   "name": "python",
   "nbconvert_exporter": "python",
   "pygments_lexer": "ipython3",
   "version": "3.13.5"
  }
 },
 "nbformat": 4,
 "nbformat_minor": 5
}
