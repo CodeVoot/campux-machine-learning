{
 "cells": [
  {
   "cell_type": "code",
   "execution_count": 2,
   "id": "36d8a484-4bf7-4b48-a78d-097864e2d8b0",
   "metadata": {},
   "outputs": [],
   "source": [
    "import pandas as pd\n",
    "import requests\n",
    "from bs4 import BeautifulSoup"
   ]
  },
  {
   "cell_type": "code",
   "execution_count": 4,
   "id": "cacf507b-6179-4eb9-9c55-6a4ac16f3511",
   "metadata": {},
   "outputs": [],
   "source": [
    "headers = {}\n",
    "# webpage = request.get(\"url of web page\",headers=headers).txt\n",
    "# now website will consider that this reqest is comming throguh bot not from human\n",
    "# so just add some piece of code before get request so that it will consider this request as coming from human\n",
    "# soup =BeautifulSoup(webpage,'lxml')\n",
    "# soup.find_all('h2')[0].text"
   ]
  },
  {
   "cell_type": "code",
   "execution_count": null,
   "id": "9f65f35a-a1b4-4b77-9c8e-ff9618bc57cf",
   "metadata": {},
   "outputs": [],
   "source": []
  }
 ],
 "metadata": {
  "kernelspec": {
   "display_name": "Python 3 (ipykernel)",
   "language": "python",
   "name": "python3"
  },
  "language_info": {
   "codemirror_mode": {
    "name": "ipython",
    "version": 3
   },
   "file_extension": ".py",
   "mimetype": "text/x-python",
   "name": "python",
   "nbconvert_exporter": "python",
   "pygments_lexer": "ipython3",
   "version": "3.13.5"
  }
 },
 "nbformat": 4,
 "nbformat_minor": 5
}
